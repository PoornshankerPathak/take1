{
 "cells": [
  {
   "cell_type": "markdown",
   "metadata": {},
   "source": [
    "# How to create a Line Plot"
   ]
  },
  {
   "cell_type": "code",
   "execution_count": null,
   "metadata": {},
   "outputs": [],
   "source": [
    "#importing the libraries\n",
    "import numpy as np\n",
    "import matplotlib.pyplot as plt\n",
    "%matplotlib inline\n",
    "\n",
    "#defining the dataset\n",
    "x = np.arange(0,10,0.1)\n",
    "y = 2*x + 5\n",
    "\n",
    "#plotting the datapoints\n",
    "plt.plot(x,y)\n",
    "plt.show()"
   ]
  },
  {
   "cell_type": "markdown",
   "metadata": {},
   "source": [
    "# Cutomizing the Line Plot"
   ]
  },
  {
   "cell_type": "code",
   "execution_count": null,
   "metadata": {},
   "outputs": [],
   "source": [
    "#importing the libraries\n",
    "import numpy as np\n",
    "import matplotlib.pyplot as plt\n",
    "%matplotlib inline\n",
    "\n",
    "#defining the dataset\n",
    "x = np.arange(0,10,1)\n",
    "y = 2*x + 5\n",
    "#changing the figure\n",
    "fig=plt.figure(figsize=(10,5))\n",
    "#plotting the datapoints\n",
    "plt.plot(x,y,linewidth = 2.0,linestyle = \":\", color = 'r',alpha = 0.5,marker ='o')\n",
    "plt.title(\"Line Plot Demo\")\n",
    "plt.xlabel(\"X-Axis\")\n",
    "plt.ylabel(\"Y-Axis\")\n",
    "plt.legend(['line1'],loc='best')\n",
    "plt.grid(True)\n",
    "plt.show()"
   ]
  },
  {
   "cell_type": "code",
   "execution_count": null,
   "metadata": {},
   "outputs": [],
   "source": [
    "import numpy as np\n",
    "import matplotlib.pyplot as plt\n",
    "%matplotlib inline\n",
    "\n",
    "x = np.arange(0,10,1)\n",
    "y1 = 2*x+5\n",
    "y2 = 3*x+10\n",
    "\n",
    "#Create two or more plots in a fig\n",
    "plt.subplot(1,2,1)\n",
    "#PLotting the points\n",
    "plt.plot(x,y1)\n",
    "plt.title('Graph1')\n",
    "\n",
    "plt.subplot(1,2,2)\n",
    "plt.plot(x,y2)\n",
    "plt.title('Graph2')\n",
    "plt.show()"
   ]
  },
  {
   "cell_type": "markdown",
   "metadata": {},
   "source": [
    "# How to create a Bar Plot"
   ]
  },
  {
   "cell_type": "code",
   "execution_count": null,
   "metadata": {},
   "outputs": [],
   "source": [
    "import numpy as np\n",
    "import matplotlib.pyplot as plt\n",
    "%matplotlib inline\n",
    "\n",
    "#creating the dataset\n",
    "data = {'apples':20,'Mangoes':15,'Lemon':30,'Oranges':10}\n",
    "names = list(data.keys())\n",
    "values = list(data.values())\n",
    "\n",
    "fig = plt.figure(figsize = (10,5))\n",
    "#Creating the bar plot\n",
    "plt.bar(names,values)\n",
    "plt.show()"
   ]
  },
  {
   "cell_type": "markdown",
   "metadata": {},
   "source": [
    "# Customizing the Bar Chart"
   ]
  },
  {
   "cell_type": "code",
   "execution_count": null,
   "metadata": {},
   "outputs": [],
   "source": [
    "import numpy as np\n",
    "import matplotlib.pyplot as plt\n",
    "%matplotlib inline\n",
    "\n",
    "#creating the dataset\n",
    "data = {'apples':20,'Mangoes':15,'Lemon':30,'Oranges':10}\n",
    "names = list(data.keys())\n",
    "values = list(data.values())\n",
    "\n",
    "fig = plt.figure(figsize = (10,5))\n",
    "#Creating the bar plot\n",
    "plt.barh(names,values,color=\"orange\")\n",
    "plt.title(\"Bar Graph Demo\")\n",
    "plt.xlabel(\"Fruits\")\n",
    "plt.ylabel(\"Quantity\")\n",
    "plt.show()"
   ]
  },
  {
   "cell_type": "markdown",
   "metadata": {},
   "source": [
    "# How to create a Scatter Plot"
   ]
  },
  {
   "cell_type": "code",
   "execution_count": null,
   "metadata": {},
   "outputs": [],
   "source": [
    "import matplotlib.pyplot as plt\n",
    "%matplotlib inline\n",
    "\n",
    "#Creating the dataset\n",
    "a =[10,20,30,40,50,60,70,80]\n",
    "b =[5,3,2,5,6,1,4,2]\n",
    "x =[1,2,3,4,3,2,1,2]\n",
    "\n",
    "#Creating the scatter Plot\n",
    "plt.scatter(a,b)\n",
    "plt.scatter(a,x)\n",
    "plt.show()"
   ]
  },
  {
   "cell_type": "markdown",
   "metadata": {},
   "source": [
    "# Customizing our Scatter Plot"
   ]
  },
  {
   "cell_type": "code",
   "execution_count": null,
   "metadata": {},
   "outputs": [],
   "source": [
    "import matplotlib.pyplot as plt\n",
    "%matplotlib inline\n",
    "\n",
    "#Creating the dataset\n",
    "a =[10,20,30,40,50,60,70,80]\n",
    "b =[5,3,2,5,6,1,4,2]\n",
    "x =[1,2,3,4,3,2,1,2]\n",
    "\n",
    "#Creating the scatter Plot\n",
    "plt.scatter(a,b, c='g', s=200,edgecolors='y',marker='o',alpha =0.5)\n",
    "plt.scatter(a,x,c='r', s=400,edgecolors='b',marker='4',alpha =1)\n",
    "plt.legend(['b','x'],loc='best')\n",
    "plt.title(\"Scatter Plot Demo\")\n",
    "plt.xlabel(\"X-Axis\")\n",
    "plt.ylabel(\"Y-Axis\")\n",
    "plt.grid(True)\n",
    "plt.savefig('Scatter Plot.png')\n",
    "plt.show()"
   ]
  },
  {
   "cell_type": "markdown",
   "metadata": {},
   "source": [
    "# How to create a Histogram?"
   ]
  },
  {
   "cell_type": "code",
   "execution_count": null,
   "metadata": {},
   "outputs": [],
   "source": [
    "import matplotlib.pyplot as plt\n",
    "%matplotlib inline\n",
    "#prepraring the dataset\n",
    "\n",
    "numbers = [10,12,16,19,11,20,26,28,30,38,35,34,45,60,68,64,62,70,78,75,79,85,94,95]\n",
    "# creating the histogram\n",
    "plt.hist(numbers, bins = [0,20,40,60,80,100])\n",
    "plt.show()"
   ]
  },
  {
   "cell_type": "markdown",
   "metadata": {},
   "source": [
    "# Customizing the Histogram"
   ]
  },
  {
   "cell_type": "code",
   "execution_count": null,
   "metadata": {},
   "outputs": [],
   "source": [
    "import matplotlib.pyplot as plt\n",
    "%matplotlib inline\n",
    "#prepraring the dataset\n",
    "\n",
    "numbers = [10,12,16,19,11,20,26,28,30,38,35,34,45,60,68,64,62,70,78,75,79,85,94,95]\n",
    "# creating the histogram\n",
    "plt.hist(numbers, bins = [0,20,40,60,80,100], edgecolor='#000000', color ='#FF2331')\n",
    "plt.title(\"Histogram Demo\")\n",
    "plt.xlabel(\"Range of values\")\n",
    "plt.ylabel(\"Frequence of values\")\n",
    "plt.grid(True)\n",
    "plt.savefig(\"Histogram Plot.png\")\n",
    "plt.show()"
   ]
  },
  {
   "cell_type": "markdown",
   "metadata": {},
   "source": [
    "# How to create a Box Plot?"
   ]
  },
  {
   "cell_type": "code",
   "execution_count": null,
   "metadata": {},
   "outputs": [],
   "source": [
    "import matplotlib.pyplot as plt\n",
    "%matplotlib inline\n",
    "\n",
    "#Data Preparation\n",
    "total = [20,4,1,30,20,10,20,70,30,10]\n",
    "order = [10,3,1,15,17,2,30,44,2,1]\n",
    "discount = [30,10,20,5,10,20,50,60,20,45]\n",
    "data = list([total, order,discount])\n",
    "#Plotting the data\n",
    "plt.boxplot(data, showmeans = True)\n",
    "plt.title(\"Box Plot Demo\")\n",
    "plt.grid(True)\n",
    "plt.show()"
   ]
  },
  {
   "cell_type": "markdown",
   "metadata": {},
   "source": [
    "# How to create a violin plot?"
   ]
  },
  {
   "cell_type": "code",
   "execution_count": null,
   "metadata": {},
   "outputs": [],
   "source": [
    "import matplotlib.pyplot as plt\n",
    "%matplotlib inline\n",
    "\n",
    "#Data Preparation\n",
    "total = [20,4,1,30,20,10,20,70,30,10]\n",
    "order = [10,3,1,15,17,2,30,44,2,1]\n",
    "discount = [30,10,20,5,10,20,50,60,20,45]\n",
    "data = list([total, order,discount])\n",
    "#Plotting the data\n",
    "plt.violinplot(data, showmeans = True, showmedians = True)\n",
    "plt.title(\"Violin Plot Demo\")\n",
    "plt.grid(True)\n",
    "plt.show()"
   ]
  },
  {
   "cell_type": "markdown",
   "metadata": {},
   "source": [
    "# How to create a Pie Chart"
   ]
  },
  {
   "cell_type": "code",
   "execution_count": null,
   "metadata": {},
   "outputs": [],
   "source": [
    "#importing the required libraries\n",
    "import matplotlib.pyplot as plt\n",
    "%matplotlib inline\n",
    "\n",
    "#preparing the dataset\n",
    "label = ['Dog','Cat','Wolf','Lion']\n",
    "sizes = [50,45,60,80]\n",
    "\n",
    "#creating the pie chart \n",
    "plt.pie(sizes, labels = label,autopct='%1.1f%%',shadow=True, startangle = 90,explode = (0,0.1,0,0))\n",
    "plt.title(\"Pie Chart Demo\")\n",
    "plt.show()"
   ]
  },
  {
   "cell_type": "markdown",
   "metadata": {},
   "source": [
    "# How to create a Doughnut Chart"
   ]
  },
  {
   "cell_type": "code",
   "execution_count": null,
   "metadata": {},
   "outputs": [],
   "source": [
    "import matplotlib.pyplot as plt\n",
    "%matplotlib inline\n",
    "\n",
    "#define the dataset\n",
    "group_names = [\"GroupA\",\"GroupB\",\"GroupC\"]\n",
    "group_size = [20,30,50]\n",
    "size_centre = [5]\n",
    "a,b,c = [plt.cm.Blues,plt.cm.Reds,plt.cm.Greens]\n",
    "#Creating the doughnut chart\n",
    "pie1 = plt.pie(group_size,labels = group_names, radius = 1.5,colors = [a(0.5),b(1.5),c(1.0)])\n",
    "pie2 = plt.pie(size_centre,radius = 1.0,colors = 'w')\n",
    "plt.show()"
   ]
  },
  {
   "cell_type": "markdown",
   "metadata": {},
   "source": [
    "# How to create a Area Chart?"
   ]
  },
  {
   "cell_type": "code",
   "execution_count": null,
   "metadata": {},
   "outputs": [],
   "source": [
    "import matplotlib.pyplot as plt\n",
    "%matplotlib inline\n",
    "\n",
    "#define the dataset\n",
    "x=range(1,15)\n",
    "y=[1,4,6,8,4,5,3,2,4,1,5,6,8,7]\n",
    "\n",
    "#creating the area plot\n",
    "plt.stackplot(x,y,colors = 'Black', alpha = 0.5)\n",
    "#Merge area chart with the line chart\n",
    "plt.plot(x,y,color = 'g')\n",
    "plt.grid(True)\n",
    "plt.show()"
   ]
  }
 ],
 "metadata": {
  "kernelspec": {
   "display_name": "Python 3",
   "language": "python",
   "name": "python3"
  },
  "language_info": {
   "codemirror_mode": {
    "name": "ipython",
    "version": 3
   },
   "file_extension": ".py",
   "mimetype": "text/x-python",
   "name": "python",
   "nbconvert_exporter": "python",
   "pygments_lexer": "ipython3",
   "version": "3.7.3"
  },
  "toc": {
   "base_numbering": 1,
   "nav_menu": {},
   "number_sections": true,
   "sideBar": true,
   "skip_h1_title": false,
   "title_cell": "Table of Contents",
   "title_sidebar": "Contents",
   "toc_cell": false,
   "toc_position": {},
   "toc_section_display": true,
   "toc_window_display": false
  },
  "varInspector": {
   "cols": {
    "lenName": 16,
    "lenType": 16,
    "lenVar": 40
   },
   "kernels_config": {
    "python": {
     "delete_cmd_postfix": "",
     "delete_cmd_prefix": "del ",
     "library": "var_list.py",
     "varRefreshCmd": "print(var_dic_list())"
    },
    "r": {
     "delete_cmd_postfix": ") ",
     "delete_cmd_prefix": "rm(",
     "library": "var_list.r",
     "varRefreshCmd": "cat(var_dic_list()) "
    }
   },
   "types_to_exclude": [
    "module",
    "function",
    "builtin_function_or_method",
    "instance",
    "_Feature"
   ],
   "window_display": false
  }
 },
 "nbformat": 4,
 "nbformat_minor": 2
}
