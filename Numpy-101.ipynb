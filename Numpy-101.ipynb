{
 "cells": [
  {
   "cell_type": "code",
   "execution_count": 107,
   "metadata": {},
   "outputs": [],
   "source": [
    "# Importing library numpy as np\n",
    "import numpy as np"
   ]
  },
  {
   "cell_type": "code",
   "execution_count": 112,
   "metadata": {},
   "outputs": [
    {
     "name": "stdout",
     "output_type": "stream",
     "text": [
      "[0 1 2 3 4 5] \n",
      "\n",
      "1 \n",
      "\n",
      "(6,) \n",
      "\n",
      "6 \n",
      "\n",
      "int32 \n",
      "\n",
      "4 \n",
      "\n",
      "<memory at 0x0000019EC8493888> \n",
      "\n"
     ]
    }
   ],
   "source": [
    "# Simple numpy ndarray(multidimensional container of items of the same type and size)\n",
    "a = np.array([0,1,2,3,4,5])\n",
    "print(a,\"\\n\")\n",
    "\n",
    "print(a.ndim,\"\\n\") # the number of axes (dimensions) of the array.\n",
    "\n",
    "print(a.shape,\"\\n\") # the dimensions of the array. \n",
    "\n",
    "print(a.size,\"\\n\") # the total number of elements of the array. This is equal to the product of the elements of shape.\n",
    "\n",
    "print(a.dtype,\"\\n\") # an object describing the type of the elements in the array. \n",
    "\n",
    "print(a.itemsize,\"\\n\") # the size in bytes of each element of the array.\n",
    "\n",
    "print(a.data,\"\\n\") # the buffer containing the actual elements of the array."
   ]
  },
  {
   "cell_type": "code",
   "execution_count": 8,
   "metadata": {},
   "outputs": [
    {
     "name": "stdout",
     "output_type": "stream",
     "text": [
      "263 µs ± 3.49 µs per loop (mean ± std. dev. of 7 runs, 1000 loops each)\n",
      "1.31 µs ± 64.4 ns per loop (mean ± std. dev. of 7 runs, 1000000 loops each)\n"
     ]
    }
   ],
   "source": [
    "# Speed test to showcase difference\n",
    "L = range(1000)\n",
    "%timeit [i**2 for i in L]\n",
    "\n",
    "A = np.arange(1000)\n",
    "%timeit A**2"
   ]
  },
  {
   "cell_type": "code",
   "execution_count": 9,
   "metadata": {},
   "outputs": [],
   "source": [
    "np.array? # with \"?\" sign new window pops out with the output"
   ]
  },
  {
   "cell_type": "code",
   "execution_count": 121,
   "metadata": {
    "scrolled": true
   },
   "outputs": [
    {
     "name": "stdout",
     "output_type": "stream",
     "text": [
      "Search results for 'int16'\n",
      "--------------------------\n",
      "numpy.seterr\n",
      "    Set how floating-point errors are handled.\n",
      "numpy.int16\n",
      "    Signed integer type, compatible with C ``short``.\n",
      "numpy.uint16\n",
      "    Unsigned integer type, compatible with C ``unsigned short``.\n",
      "numpy.diff\n",
      "    Calculate the n-th discrete difference along the given axis.\n",
      "numpy.dtype\n",
      "    Create a data type object.\n",
      "numpy.iinfo\n",
      "    iinfo(type)\n",
      "numpy.ndarray\n",
      "    ndarray(shape, dtype=float, buffer=None, offset=0,\n",
      "numpy.bitwise_not\n",
      "    Compute bit-wise inversion, or bit-wise NOT, element-wise.\n",
      "numpy.min_scalar_type\n",
      "    min_scalar_type(a)\n",
      "numpy.chararray.view\n",
      "    New view of array with the same data.\n",
      "numpy.chararray.byteswap\n",
      "    Swap the bytes of the array elements"
     ]
    }
   ],
   "source": [
    "np.lookfor('int16') # <-- remove "
   ]
  },
  {
   "cell_type": "code",
   "execution_count": 14,
   "metadata": {},
   "outputs": [],
   "source": [
    "np.con*?"
   ]
  },
  {
   "cell_type": "code",
   "execution_count": 114,
   "metadata": {},
   "outputs": [
    {
     "name": "stdout",
     "output_type": "stream",
     "text": [
      "[0 1 2 3] \n",
      "\n",
      "Dimension --> 1 \n",
      "\n",
      "Shape --> (4,) \n",
      "\n",
      "Size --> 4 \n",
      "\n"
     ]
    }
   ],
   "source": [
    "#1-Dimesional Array \n",
    "#a = np.array(1,2,3,4)    # WRONG\n",
    "a = np.array([0,1,2,3])  # 1 x 4 array\n",
    "print(a,\"\\n\") \n",
    "print(\"Dimension -->\",a.ndim,\"\\n\")\n",
    "print(\"Shape -->\",a.shape,\"\\n\")\n",
    "print(\"Size -->\",len(a),\"\\n\")"
   ]
  },
  {
   "cell_type": "code",
   "execution_count": 74,
   "metadata": {},
   "outputs": [
    {
     "name": "stdout",
     "output_type": "stream",
     "text": [
      "[[0 1 2]\n",
      " [3 4 5]] \n",
      "\n",
      "Dimension --> 2 \n",
      "\n",
      "Shape --> (2, 3) \n",
      "\n",
      "Size --> 2 \n",
      "\n"
     ]
    }
   ],
   "source": [
    "#2-Dimesional Array \n",
    "b = np.array([[0, 1, 2], [3, 4, 5]]) # 2 x 3 array\n",
    "print(b,\"\\n\") \n",
    "print(\"Dimension -->\",b.ndim,\"\\n\")\n",
    "print(\"Shape -->\",b.shape,\"\\n\")\n",
    "print(\"Size -->\",len(b),\"\\n\") # returns the size of the first dimension i.e. 2 in this case"
   ]
  },
  {
   "cell_type": "code",
   "execution_count": 73,
   "metadata": {},
   "outputs": [
    {
     "name": "stdout",
     "output_type": "stream",
     "text": [
      "[[[1]\n",
      "  [2]]\n",
      "\n",
      " [[3]\n",
      "  [4]]] \n",
      "\n",
      "Dimension --> 3 \n",
      "\n",
      "Shape --> (2, 2, 1) \n",
      "\n",
      "Size --> 2 \n",
      "\n"
     ]
    }
   ],
   "source": [
    "#3-Dimesional Array and so on...\n",
    "c = np.array([[[1], [2]], [[3], [4]]])\n",
    "print(c,\"\\n\") \n",
    "print(\"Dimension -->\",c.ndim,\"\\n\")\n",
    "print(\"Shape -->\",c.shape,\"\\n\")\n",
    "print(\"Size -->\",len(c),\"\\n\")# returns the size of the first dimension i.e. 2 in this case"
   ]
  },
  {
   "cell_type": "code",
   "execution_count": 72,
   "metadata": {},
   "outputs": [
    {
     "name": "stdout",
     "output_type": "stream",
     "text": [
      "a --> [0 1 2 3 4 5 6 7 8 9] \n",
      "\n",
      "b --> [1 3 5 7] \n",
      "\n",
      "c --> [0.  0.2 0.4 0.6 0.8 1. ] \n",
      "\n",
      "d --> [0.   0.25 0.5  0.75 1.  ] \n",
      "\n",
      "e --> [0.  0.2 0.4 0.6 0.8] \n",
      "\n"
     ]
    }
   ],
   "source": [
    "a = np.arange(10) # 0 .. n-1 \n",
    "print(\"a -->\",a,\"\\n\") \n",
    "\n",
    "b = np.arange(1, 9, 2) # start, end (exclusive), step\n",
    "print(\"b -->\",b,\"\\n\") #prints odd number as per the definition\n",
    "\n",
    "c = np.linspace(0, 1, 6)   # start, end, num-points\n",
    "print(\"c -->\",c,\"\\n\")\n",
    "\n",
    "d = np.linspace(0, 1, 5, endpoint=True)\n",
    "print(\"d -->\",d,\"\\n\")\n",
    "\n",
    "e = np.linspace(0, 1, 5, endpoint=False)\n",
    "print(\"e -->\",e,\"\\n\")"
   ]
  },
  {
   "cell_type": "code",
   "execution_count": 71,
   "metadata": {},
   "outputs": [
    {
     "name": "stdout",
     "output_type": "stream",
     "text": [
      "a -->\n",
      " [[1. 1. 1.]\n",
      " [1. 1. 1.]\n",
      " [1. 1. 1.]] \n",
      "\n",
      "b -->\n",
      " [[0. 0. 0.]\n",
      " [0. 0. 0.]\n",
      " [0. 0. 0.]] \n",
      "\n",
      "c -->\n",
      " [[1. 0. 0.]\n",
      " [0. 1. 0.]\n",
      " [0. 0. 1.]] \n",
      "\n",
      "d setting diagonal values--> \n",
      " [[1 0 0 0]\n",
      " [0 2 0 0]\n",
      " [0 0 3 0]\n",
      " [0 0 0 4]] \n",
      "\n",
      "d extracting diagonal values --> [1 2 3 4] \n",
      "\n",
      "e --> \n",
      " [[1. 0. 0.]\n",
      " [0. 1. 0.]\n",
      " [0. 0. 1.]]\n"
     ]
    }
   ],
   "source": [
    "# Few Array types\n",
    "a = np.ones((3, 3))  # reminder: (3, 3) is a tuple\n",
    "print(\"a -->\\n\",a,\"\\n\") \n",
    "\n",
    "b = np.zeros((3, 3)) # Return a new array of given shape and type, filled with zeros.\n",
    "print(\"b -->\\n\",b,\"\\n\")\n",
    "\n",
    "c = np.eye(3) # Return a 2-D array with ones on the diagonal and zeros elsewhere.\n",
    "print(\"c -->\\n\",c,\"\\n\")\n",
    "\n",
    "d = d = np.diag(np.array([1, 2, 3, 4])) # Extract a diagonal or construct a diagonal array.\n",
    "print(\"d setting diagonal values--> \\n\",d,\"\\n\")\n",
    "print(\"d extracting diagonal values -->\", np.diag(d),\"\\n\")\n",
    "\n",
    "e = np.empty([3,3]) # Return a new array of given shape and type, without initializing entries.\n",
    "print(\"e --> \\n\",e) # Uninitialized\n"
   ]
  },
  {
   "cell_type": "code",
   "execution_count": 66,
   "metadata": {},
   "outputs": [
    {
     "name": "stdout",
     "output_type": "stream",
     "text": [
      "a --> [0.10978678 0.55157331 0.68910469 0.84823889] \n",
      "\n",
      "b --> [-0.97255361 -0.02398875 -0.85483905  0.65443432] \n",
      "\n",
      "Random number between 0 and 1 0.5488135039273248 \n",
      "\n",
      "Random number [30 91  9 73 62]\n"
     ]
    }
   ],
   "source": [
    "\"\"\"\n",
    "np.random \n",
    "\n",
    "Numpy’s random number routines produce pseudo random numbers using combinations of a BitGenerator to \n",
    "create sequences and a Generator to use those sequences to sample from different statistical distributions:\n",
    "\n",
    "    BitGenerators: Objects that generate random numbers. These are typically unsigned integer words filled \n",
    "        with sequences of either 32 or 64 random bits.\n",
    "    Generators: Objects that transform sequences of random bits from a BitGenerator into sequences of \n",
    "        numbers that follow a specific probability distribution (such as uniform, Normal or Binomial) \n",
    "        within a specified interval.\n",
    "\"\"\"\n",
    "\n",
    "a = np.random.rand(4) # uniform in [0, 1]\n",
    "print(\"a -->\",a,\"\\n\")\n",
    "\n",
    "b = np.random.randn(4) # Gaussian\n",
    "print(\"b -->\",b,\"\\n\")\n",
    "\n",
    "c = np.random.seed(0) # Setting the random seed PCG64,MT19937 algorithms\n",
    "print(\"Random number between 0 and 1\",np.random.random(),\"\\n\")\n",
    "\n",
    "np.random.seed(74)\n",
    "print(\"Random number\",np.random.randint(low = 0, high = 100, size = 5))"
   ]
  },
  {
   "cell_type": "code",
   "execution_count": 82,
   "metadata": {},
   "outputs": [
    {
     "name": "stdout",
     "output_type": "stream",
     "text": [
      "a --> int32 \n",
      "\n",
      "b --> float64 \n",
      "\n",
      "c --> float64 \n",
      "\n",
      "d --> float64 \n",
      "\n",
      "e --> bool \n",
      "\n",
      "f --> <U7 \n",
      "\n",
      "g --> complex128\n"
     ]
    }
   ],
   "source": [
    "# Data types <-- NumPy auto-detects the data-type from the input.\n",
    "a = np.array([1, 2, 3])\n",
    "print(\"a -->\",a.dtype,\"\\n\")\n",
    "\n",
    "b = np.array([1., 2., 3.])\n",
    "print(\"b -->\",b.dtype,\"\\n\")\n",
    "\n",
    "c = np.array([1, 2, 3], dtype=float) \n",
    "print(\"c -->\",c.dtype,\"\\n\")\n",
    "\n",
    "d = np.ones((3, 3)) # Float is the default\n",
    "print(\"d -->\",d.dtype,\"\\n\")\n",
    "\n",
    "e = np.array([True, False, False, True])\n",
    "print(\"e -->\",e.dtype,\"\\n\")\n",
    "\n",
    "f = np.array(['Bonjour', 'Hello', 'Hallo'])\n",
    "print(\"f -->\",f.dtype,\"\\n\") # <--- strings containing max. 7 letters \n",
    "\n",
    "g = np.array([1+2j, 3+4j, 5+6*1j])\n",
    "print(\"g -->\",g.dtype)\n"
   ]
  },
  {
   "cell_type": "code",
   "execution_count": 96,
   "metadata": {},
   "outputs": [
    {
     "name": "stdout",
     "output_type": "stream",
     "text": [
      "a --> [0 1 2 3 4 5 6 7 8 9] \n",
      "\n",
      "Indexing --> 0 2 9 \n",
      "\n",
      "Reversing a sequence --> [9 8 7 6 5 4 3 2 1 0] \n",
      "\n",
      "b --> [[0 0 0]\n",
      " [0 1 0]\n",
      " [0 0 2]] \n",
      "\n",
      "b[1, 1] --> 1 \n",
      "\n",
      "b[2, 1] = 10 --> [[ 0  0  0]\n",
      " [ 0  1  0]\n",
      " [ 0 10  2]] \n",
      "\n",
      "b[1] --> [0 1 0] \n",
      "\n"
     ]
    }
   ],
   "source": [
    "# Indexing\n",
    "\n",
    "a = np.arange(10) # indices begins from 0\n",
    "print(\"a -->\",a,\"\\n\")\n",
    "\n",
    "print(\"Indexing -->\",a[0], a[2], a[-1],\"\\n\")\n",
    "\n",
    "print(\"Reversing a sequence -->\",a[::-1],\"\\n\")\n",
    "\n",
    "# Indexing and Slicing for multidimensional arrays(first dimension corresponds to rows, the second to columns)\n",
    "b = np.diag(np.arange(3))\n",
    "print(\"b -->\",b,\"\\n\")\n",
    "\n",
    "print(\"b[1, 1] -->\",b[1, 1],\"\\n\")\n",
    "\n",
    "b[2, 1] = 10 # third line, second column\n",
    "print(\"b[2, 1] = 10 -->\",b,\"\\n\")\n",
    "\n",
    "print(\"b[1] -->\",b[1],\"\\n\")\n"
   ]
  },
  {
   "cell_type": "code",
   "execution_count": 95,
   "metadata": {},
   "outputs": [
    {
     "name": "stdout",
     "output_type": "stream",
     "text": [
      "Slicing --> [2 5 8] \n",
      "\n",
      "a[:4] --> [0 1 2 3] \n",
      "\n",
      "Slicing --> [1 2] \n",
      "\n",
      "Slicing --> [0 2 4 6 8] \n",
      "\n",
      "Slicing --> [3 4 5 6 7 8 9] \n",
      "\n"
     ]
    }
   ],
   "source": [
    "# Slicing\n",
    "\n",
    "print(\"Slicing -->\",a[2:9:3],\"\\n\")\n",
    "\n",
    "print(\"a[:4] -->\",a[:4],\"\\n\") # last index is not included!\n",
    "\n",
    "# All three slice components are not required: by default, start is 0, end is the last and step is 1\n",
    "print(\"Slicing -->\",a[1:3],\"\\n\")\n",
    "\n",
    "print(\"Slicing -->\",a[::2],\"\\n\")\n",
    "\n",
    "print(\"Slicing -->\",a[3:],\"\\n\")"
   ]
  },
  {
   "attachments": {
    "numpy_indexing.png": {
     "image/png": "[encoded data removed]"
    }
   },
   "cell_type": "markdown",
   "metadata": {},
   "source": [
    "![numpy_indexing.png](attachment:numpy_indexing.png)"
   ]
  },
  {
   "cell_type": "code",
   "execution_count": 98,
   "metadata": {},
   "outputs": [
    {
     "name": "stdout",
     "output_type": "stream",
     "text": [
      "Last Five values changed to 10 --> [ 0  1  2  3  4 10 10 10 10 10] \n",
      "\n",
      "Last Five values a changed to value of b in reverse --> [0 1 2 3 4 4 3 2 1 0] \n",
      "\n"
     ]
    }
   ],
   "source": [
    "# Combining Assignment and Slicing\n",
    "a = np.arange(10)\n",
    "a[5:] = 10\n",
    "print(\"Last Five values changed to 10 -->\",a,\"\\n\")\n",
    "\n",
    "b = np.arange(5)\n",
    "a[5:] = b[::-1]\n",
    "print(\"Last Five values a changed to value of b in reverse -->\",a,\"\\n\")"
   ]
  },
  {
   "cell_type": "code",
   "execution_count": 104,
   "metadata": {},
   "outputs": [
    {
     "name": "stdout",
     "output_type": "stream",
     "text": [
      "a --> [0 1 2 3 4 5 6 7 8 9] \n",
      "\n",
      "b --> [0 2 4 6 8] \n",
      "\n",
      "is memory shared --> True \n",
      "\n",
      "Modified b --> [12  2  4  6  8] \n",
      "\n",
      "Automatically modified a --> [12  1  2  3  4  5  6  7  8  9] \n",
      "\n",
      "a --> [0 1 2 3 4 5 6 7 8 9] \n",
      "\n",
      "is memory shared --> False\n"
     ]
    }
   ],
   "source": [
    "\"\"\"A slicing operation creates a view on the original array, which is just a way of accessing array data.\n",
    "When modifying the view, the original array is modified as well\n",
    "\n",
    "np.may_share_memory() <-- can be used to check if two arrays share the same memory block (it's heuristic)\n",
    "\n",
    "“A heuristic technique, often called simply a heuristic, is any approach to problem solving, \n",
    "learning, or discovery that employs a practical method not guaranteed to be optimal or perfect, \n",
    "but sufficient for the immediate goals.\n",
    "\"\"\"\n",
    "a = np.arange(10)\n",
    "print(\"a -->\",a,\"\\n\")\n",
    "\n",
    "b = a[::2]\n",
    "print(\"b -->\",b,\"\\n\")\n",
    "\n",
    "print(\"is memory shared -->\",np.may_share_memory(a, b),\"\\n\")\n",
    "\n",
    "b[0] = 12 \n",
    "print(\"Modified b -->\",b,\"\\n\")\n",
    "print(\"Automatically modified a -->\",a,\"\\n\") \n",
    "\n",
    "a = np.arange(10)\n",
    "c = a[::2].copy()  # force a copy\n",
    "c[0] = 12\n",
    "a\n",
    "print(\"a -->\",a,\"\\n\")\n",
    "\n",
    "print(\"is memory shared -->\",np.may_share_memory(a, c)) \n"
   ]
  },
  {
   "cell_type": "code",
   "execution_count": 106,
   "metadata": {},
   "outputs": [],
   "source": [
    "# Fancy Masking --< try by yourself it's fun"
   ]
  },
  {
   "cell_type": "code",
   "execution_count": null,
   "metadata": {},
   "outputs": [],
   "source": []
  }
 ],
 "metadata": {
  "kernelspec": {
   "display_name": "Python 3",
   "language": "python",
   "name": "python3"
  },
  "language_info": {
   "codemirror_mode": {
    "name": "ipython",
    "version": 3
   },
   "file_extension": ".py",
   "mimetype": "text/x-python",
   "name": "python",
   "nbconvert_exporter": "python",
   "pygments_lexer": "ipython3",
   "version": "3.7.3"
  }
 },
 "nbformat": 4,
 "nbformat_minor": 2
}
